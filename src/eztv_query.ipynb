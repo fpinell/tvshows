{
 "cells": [
  {
   "cell_type": "code",
   "execution_count": 7,
   "metadata": {
    "collapsed": true
   },
   "outputs": [],
   "source": [
    "import requests\n",
    "from bs4 import BeautifulSoup\n",
    "\n"
   ]
  },
  {
   "cell_type": "code",
   "execution_count": 25,
   "metadata": {},
   "outputs": [],
   "source": [
    "request = requests.get('https://eztv.io/search/?q1=&q2=1913&search=Search')"
   ]
  },
  {
   "cell_type": "code",
   "execution_count": 26,
   "metadata": {},
   "outputs": [
    {
     "data": {
      "text/plain": [
       "200"
      ]
     },
     "execution_count": 26,
     "metadata": {},
     "output_type": "execute_result"
    }
   ],
   "source": [
    "request.status_code"
   ]
  },
  {
   "cell_type": "code",
   "execution_count": 27,
   "metadata": {},
   "outputs": [],
   "source": [
    "soup = BeautifulSoup(request.content, \"html5lib\")\n",
    "\n",
    "magnets = soup.find_all(\"a\", {\"class\": \"magnet\"})\n"
   ]
  },
  {
   "cell_type": "code",
   "execution_count": 28,
   "metadata": {},
   "outputs": [
    {
     "data": {
      "text/plain": [
       "[<a class=\"magnet\" href=\"magnet:?xt=urn:btih:74b6659e502e9e144f7b42a94d9650232ce6fed1&amp;dn=Westworld.S02E10.720p.WEBRip.x264-PBS%5Beztv%5D.mkv%5Beztv%5D&amp;tr=udp%3A%2F%2Ftracker.coppersurfer.tk%3A80&amp;tr=udp%3A%2F%2Fglotorrents.pw%3A6969%2Fannounce&amp;tr=udp%3A%2F%2Ftracker.opentrackr.org%3A1337%2Fannounce&amp;tr=udp%3A%2F%2Fexodus.desync.com%3A6969\" rel=\"nofollow\" title=\"Westworld S02E10 720p WEBRip x264-PBS [eztv] (2.30 GB) Magnet Link\"></a>,\n",
       " <a class=\"magnet\" href=\"magnet:?xt=urn:btih:2a7cb16dbd85fc3825bafd52c5f2f5f5044a55ea&amp;dn=Westworld.S02E10.WEBRip.x264-PBS%5Beztv%5D.mkv%5Beztv%5D&amp;tr=udp%3A%2F%2Ftracker.coppersurfer.tk%3A80&amp;tr=udp%3A%2F%2Fglotorrents.pw%3A6969%2Fannounce&amp;tr=udp%3A%2F%2Ftracker.opentrackr.org%3A1337%2Fannounce&amp;tr=udp%3A%2F%2Fexodus.desync.com%3A6969\" rel=\"nofollow\" title=\"Westworld S02E10 WEBRip x264-PBS [eztv] (601.27 MB) Magnet Link\"></a>,\n",
       " <a class=\"magnet\" href=\"magnet:?xt=urn:btih:962c7b321597e95c1b44648402add3f6d3aea254&amp;dn=Westworld.S02E09.WEB.H264-DEFLATE%5Beztv%5D.mkv%5Beztv%5D&amp;tr=udp%3A%2F%2Ftracker.coppersurfer.tk%3A80&amp;tr=udp%3A%2F%2Fglotorrents.pw%3A6969%2Fannounce&amp;tr=udp%3A%2F%2Ftracker.opentrackr.org%3A1337%2Fannounce&amp;tr=udp%3A%2F%2Fexodus.desync.com%3A6969\" rel=\"nofollow\" title=\"Westworld S02E09 WEB H264-DEFLATE [eztv] (364.06 MB) Magnet Link\"></a>,\n",
       " <a class=\"magnet\" href=\"magnet:?xt=urn:btih:6cb636c9571990ef29b111f259b5d8b5c551d6e9&amp;dn=Westworld.S02E09.720p.AMZN.WEB-DL.DDP5.1.H.264-NTb%5Beztv%5D.mkv%5Beztv%5D&amp;tr=udp%3A%2F%2Ftracker.coppersurfer.tk%3A80&amp;tr=udp%3A%2F%2Fglotorrents.pw%3A6969%2Fannounce&amp;tr=udp%3A%2F%2Ftracker.opentrackr.org%3A1337%2Fannounce&amp;tr=udp%3A%2F%2Fexodus.desync.com%3A6969\" rel=\"nofollow\" title=\"Westworld S02E09 720p AMZN WEB-DL DDP5 1 H 264-NTb [eztv] (1.81 GB) Magnet Link\"></a>,\n",
       " <a class=\"magnet\" href=\"magnet:?xt=urn:btih:11098347d7c0e9efe8b0d3e53913eb1f94623ee6&amp;dn=Westworld.S02E08.720p.WEB.H264-DEFLATE%5Beztv%5D.mkv%5Beztv%5D&amp;tr=udp%3A%2F%2Ftracker.coppersurfer.tk%3A80&amp;tr=udp%3A%2F%2Fglotorrents.pw%3A6969%2Fannounce&amp;tr=udp%3A%2F%2Ftracker.opentrackr.org%3A1337%2Fannounce&amp;tr=udp%3A%2F%2Fexodus.desync.com%3A6969\" rel=\"nofollow\" title=\"Westworld S02E08 720p WEB H264-DEFLATE [eztv] (1.83 GB) Magnet Link\"></a>,\n",
       " <a class=\"magnet\" href=\"magnet:?xt=urn:btih:95105d919c10e64ae4fa31067a8d37ccd33fe92d&amp;dn=Westworld.S02E08.WEB.H264-DEFLATE%5Beztv%5D.mkv%5Beztv%5D&amp;tr=udp%3A%2F%2Ftracker.coppersurfer.tk%3A80&amp;tr=udp%3A%2F%2Fglotorrents.pw%3A6969%2Fannounce&amp;tr=udp%3A%2F%2Ftracker.opentrackr.org%3A1337%2Fannounce&amp;tr=udp%3A%2F%2Fexodus.desync.com%3A6969\" rel=\"nofollow\" title=\"Westworld S02E08 WEB H264-DEFLATE [eztv] (452.84 MB) Magnet Link\"></a>,\n",
       " <a class=\"magnet\" href=\"magnet:?xt=urn:btih:3873dbeb7100cb3fa9ea3051dabd6f941c24f306&amp;dn=Westworld.S02E07.WEB.H264-DEFLATE%5Beztv%5D.mkv%5Beztv%5D&amp;tr=udp%3A%2F%2Ftracker.coppersurfer.tk%3A80&amp;tr=udp%3A%2F%2Fglotorrents.pw%3A6969%2Fannounce&amp;tr=udp%3A%2F%2Ftracker.opentrackr.org%3A1337%2Fannounce&amp;tr=udp%3A%2F%2Fexodus.desync.com%3A6969\" rel=\"nofollow\" title=\"Westworld S02E07 WEB H264-DEFLATE [eztv] (351.59 MB) Magnet Link\"></a>,\n",
       " <a class=\"magnet\" href=\"magnet:?xt=urn:btih:244a793b10a6ecacb655f52c277a8a7f3a0e9480&amp;dn=Westworld.S02E07.720p.WEB.H264-DEFLATE%5Beztv%5D.mkv%5Beztv%5D&amp;tr=udp%3A%2F%2Ftracker.coppersurfer.tk%3A80&amp;tr=udp%3A%2F%2Fglotorrents.pw%3A6969%2Fannounce&amp;tr=udp%3A%2F%2Ftracker.opentrackr.org%3A1337%2Fannounce&amp;tr=udp%3A%2F%2Fexodus.desync.com%3A6969\" rel=\"nofollow\" title=\"Westworld S02E07 720p WEB H264-DEFLATE [eztv] (1.76 GB) Magnet Link\"></a>,\n",
       " <a class=\"magnet\" href=\"magnet:?xt=urn:btih:65cda63ec31cb810fd8da309d5b1c5dfe9e0f614&amp;dn=Westworld.S02E06.WEB.H264-DEFLATE%5Beztv%5D.mkv%5Beztv%5D&amp;tr=udp%3A%2F%2Ftracker.coppersurfer.tk%3A80&amp;tr=udp%3A%2F%2Fglotorrents.pw%3A6969%2Fannounce&amp;tr=udp%3A%2F%2Ftracker.opentrackr.org%3A1337%2Fannounce&amp;tr=udp%3A%2F%2Fexodus.desync.com%3A6969\" rel=\"nofollow\" title=\"Westworld S02E06 WEB H264-DEFLATE [eztv] (404.57 MB) Magnet Link\"></a>,\n",
       " <a class=\"magnet\" href=\"magnet:?xt=urn:btih:60247bb3e36d93fa4f3778885b594391989c7ce8&amp;dn=Westworld.S02E06.Phase.Space.720p.AMZN.WEB-DL.DDP5.1.H.264-NTb%5Beztv%5D.mkv%5Beztv%5D&amp;tr=udp%3A%2F%2Ftracker.coppersurfer.tk%3A80&amp;tr=udp%3A%2F%2Fglotorrents.pw%3A6969%2Fannounce&amp;tr=udp%3A%2F%2Ftracker.opentrackr.org%3A1337%2Fannounce&amp;tr=udp%3A%2F%2Fexodus.desync.com%3A6969\" rel=\"nofollow\" title=\"Westworld S02E06 Phase Space 720p AMZN WEB-DL DDP5 1 H 264-NTb [eztv] (1.72 GB) Magnet Link\"></a>,\n",
       " <a class=\"magnet\" href=\"magnet:?xt=urn:btih:81ef350e31ee08c2bf84e86afbeff282904472f9&amp;dn=Westworld.S02E05.Akane.No.Mai.720p.AMZN.WEB-DL.DDP5.1.H.264-NTb%5Beztv%5D.mkv%5Beztv%5D&amp;tr=udp%3A%2F%2Ftracker.coppersurfer.tk%3A80&amp;tr=udp%3A%2F%2Fglotorrents.pw%3A6969%2Fannounce&amp;tr=udp%3A%2F%2Ftracker.opentrackr.org%3A1337%2Fannounce&amp;tr=udp%3A%2F%2Fexodus.desync.com%3A6969\" rel=\"nofollow\" title=\"Westworld S02E05 Akane No Mai 720p AMZN WEB-DL DDP5 1 H 264-NTb [eztv] (1.83 GB) Magnet Link\"></a>,\n",
       " <a class=\"magnet\" href=\"magnet:?xt=urn:btih:3ecedfc9c737ccdf6349e9b795ed88b1ee797846&amp;dn=Westworld.S02E05.WEB.H264-DEFLATE%5Beztv%5D.mkv%5Beztv%5D&amp;tr=udp%3A%2F%2Ftracker.coppersurfer.tk%3A80&amp;tr=udp%3A%2F%2Fglotorrents.pw%3A6969%2Fannounce&amp;tr=udp%3A%2F%2Ftracker.opentrackr.org%3A1337%2Fannounce&amp;tr=udp%3A%2F%2Fexodus.desync.com%3A6969\" rel=\"nofollow\" title=\"Westworld S02E05 WEB H264-DEFLATE [eztv] (358.90 MB) Magnet Link\"></a>,\n",
       " <a class=\"magnet\" href=\"magnet:?xt=urn:btih:8220fe43aea14a0d85d4ceb239969ed0ab7c6083&amp;dn=Westworld.S02E05.720p.WEB.H264-DEFLATE%5Beztv%5D.mkv%5Beztv%5D&amp;tr=udp%3A%2F%2Ftracker.coppersurfer.tk%3A80&amp;tr=udp%3A%2F%2Fglotorrents.pw%3A6969%2Fannounce&amp;tr=udp%3A%2F%2Ftracker.opentrackr.org%3A1337%2Fannounce&amp;tr=udp%3A%2F%2Fexodus.desync.com%3A6969\" rel=\"nofollow\" title=\"Westworld S02E05 720p WEB H264-DEFLATE [eztv] (1.80 GB) Magnet Link\"></a>,\n",
       " <a class=\"magnet\" href=\"magnet:?xt=urn:btih:7bc956e445203616046684ee690067c21225e767&amp;dn=Westworld.S02E04.The.Riddle.of.the.Sphinx.720p.AMZN.WEB-DL.DDP5.1.H.264-NTb%5Beztv%5D.mkv%5Beztv%5D&amp;tr=udp%3A%2F%2Ftracker.coppersurfer.tk%3A80&amp;tr=udp%3A%2F%2Fglotorrents.pw%3A6969%2Fannounce&amp;tr=udp%3A%2F%2Ftracker.opentrackr.org%3A1337%2Fannounce&amp;tr=udp%3A%2F%2Fexodus.desync.com%3A6969\" rel=\"nofollow\" title=\"Westworld S02E04 The Riddle of the Sphinx 720p AMZN WEB-DL DDP5 1 H 264-NTb [eztv] (2.31 GB) Magnet Link\"></a>,\n",
       " <a class=\"magnet\" href=\"magnet:?xt=urn:btih:b5e230878d6801a4ce611c52f72451bb29ecfe4f&amp;dn=Westworld.S02E04.720p.WEB.H264-DEFLATE%5Beztv%5D.mkv%5Beztv%5D&amp;tr=udp%3A%2F%2Ftracker.coppersurfer.tk%3A80&amp;tr=udp%3A%2F%2Fglotorrents.pw%3A6969%2Fannounce&amp;tr=udp%3A%2F%2Ftracker.opentrackr.org%3A1337%2Fannounce&amp;tr=udp%3A%2F%2Fexodus.desync.com%3A6969\" rel=\"nofollow\" title=\"Westworld S02E04 720p WEB H264-DEFLATE [eztv] (2.28 GB) Magnet Link\"></a>,\n",
       " <a class=\"magnet\" href=\"magnet:?xt=urn:btih:4e8677d64a41034b7d35ba8023c1a9ca5c2331e7&amp;dn=Westworld.S02E04.WEB.H264-DEFLATE%5Beztv%5D.mkv%5Beztv%5D&amp;tr=udp%3A%2F%2Ftracker.coppersurfer.tk%3A80&amp;tr=udp%3A%2F%2Fglotorrents.pw%3A6969%2Fannounce&amp;tr=udp%3A%2F%2Ftracker.opentrackr.org%3A1337%2Fannounce&amp;tr=udp%3A%2F%2Fexodus.desync.com%3A6969\" rel=\"nofollow\" title=\"Westworld S02E04 WEB H264-DEFLATE [eztv] (434.43 MB) Magnet Link\"></a>,\n",
       " <a class=\"magnet\" href=\"magnet:?xt=urn:btih:722b33695d34a032dc139244ae9f808f4a92c8fe&amp;dn=Westworld.S02E03.720p.WEB.H264-DEFLATE%5Beztv%5D.mkv%5Beztv%5D&amp;tr=udp%3A%2F%2Ftracker.coppersurfer.tk%3A80&amp;tr=udp%3A%2F%2Fglotorrents.pw%3A6969%2Fannounce&amp;tr=udp%3A%2F%2Ftracker.opentrackr.org%3A1337%2Fannounce&amp;tr=udp%3A%2F%2Fexodus.desync.com%3A6969\" rel=\"nofollow\" title=\"Westworld S02E03 720p WEB H264-DEFLATE [eztv] (1.66 GB) Magnet Link\"></a>,\n",
       " <a class=\"magnet\" href=\"magnet:?xt=urn:btih:e7a023cca468b5eeb53143feeac14f4b99f325cd&amp;dn=Westworld.S02E03.WEB.H264-DEFLATE%5Beztv%5D.mkv%5Beztv%5D&amp;tr=udp%3A%2F%2Ftracker.coppersurfer.tk%3A80&amp;tr=udp%3A%2F%2Fglotorrents.pw%3A6969%2Fannounce&amp;tr=udp%3A%2F%2Ftracker.opentrackr.org%3A1337%2Fannounce&amp;tr=udp%3A%2F%2Fexodus.desync.com%3A6969\" rel=\"nofollow\" title=\"Westworld S02E03 WEB H264-DEFLATE [eztv] (456.28 MB) Magnet Link\"></a>,\n",
       " <a class=\"magnet\" href=\"magnet:?xt=urn:btih:e2f4e8371ba03a312a3d77fc027b068853d37c75&amp;dn=Westworld.S02E03.Virtu.e.Fortuna.720p.AMZN.WEB-DL.DDP5.1.H.264-NTb%5Beztv%5D.mkv%5Beztv%5D&amp;tr=udp%3A%2F%2Ftracker.coppersurfer.tk%3A80&amp;tr=udp%3A%2F%2Fglotorrents.pw%3A6969%2Fannounce&amp;tr=udp%3A%2F%2Ftracker.opentrackr.org%3A1337%2Fannounce&amp;tr=udp%3A%2F%2Fexodus.desync.com%3A6969\" rel=\"nofollow\" title=\"Westworld S02E03 Virtu e Fortuna 720p AMZN WEB-DL DDP5 1 H 264-NTb [eztv] (1.68 GB) Magnet Link\"></a>,\n",
       " <a class=\"magnet\" href=\"magnet:?xt=urn:btih:3d5b2963643113d88153068edb98603e2458e950&amp;dn=Westworld.S02E02.720p.WEB.H264-DEFLATE%5Beztv%5D.mkv%5Beztv%5D&amp;tr=udp%3A%2F%2Ftracker.coppersurfer.tk%3A80&amp;tr=udp%3A%2F%2Fglotorrents.pw%3A6969%2Fannounce&amp;tr=udp%3A%2F%2Ftracker.opentrackr.org%3A1337%2Fannounce&amp;tr=udp%3A%2F%2Fexodus.desync.com%3A6969\" rel=\"nofollow\" title=\"Westworld S02E02 720p WEB H264-DEFLATE [eztv] (1.40 GB) Magnet Link\"></a>,\n",
       " <a class=\"magnet\" href=\"magnet:?xt=urn:btih:93a14386868aa687779e7dcadc0fa02c44af0271&amp;dn=Westworld.S02E02.WEB.H264-DEFLATE%5Beztv%5D.mkv%5Beztv%5D&amp;tr=udp%3A%2F%2Ftracker.coppersurfer.tk%3A80&amp;tr=udp%3A%2F%2Fglotorrents.pw%3A6969%2Fannounce&amp;tr=udp%3A%2F%2Ftracker.opentrackr.org%3A1337%2Fannounce&amp;tr=udp%3A%2F%2Fexodus.desync.com%3A6969\" rel=\"nofollow\" title=\"Westworld S02E02 WEB H264-DEFLATE [eztv] (300.98 MB) Magnet Link\"></a>,\n",
       " <a class=\"magnet\" href=\"magnet:?xt=urn:btih:f5b0052daea12dd728448ea5244032acbe779dca&amp;dn=Westworld.S02E02.Reunion.720p.AMZN.WEB-DL.DDP5.1.H.264-NTb%5Beztv%5D.mkv%5Beztv%5D&amp;tr=udp%3A%2F%2Ftracker.coppersurfer.tk%3A80&amp;tr=udp%3A%2F%2Fglotorrents.pw%3A6969%2Fannounce&amp;tr=udp%3A%2F%2Ftracker.opentrackr.org%3A1337%2Fannounce&amp;tr=udp%3A%2F%2Fexodus.desync.com%3A6969\" rel=\"nofollow\" title=\"Westworld S02E02 Reunion 720p AMZN WEB-DL DDP5 1 H 264-NTb [eztv] (1.41 GB) Magnet Link\"></a>,\n",
       " <a class=\"magnet\" href=\"magnet:?xt=urn:btih:695357acb76e711dc36f537e59aae0f0213cc8a0&amp;dn=Westworld.S02E01.720p.WEB.H264-DEFLATE%5Beztv%5D.mkv%5Beztv%5D&amp;tr=udp%3A%2F%2Ftracker.coppersurfer.tk%3A80&amp;tr=udp%3A%2F%2Fglotorrents.pw%3A6969%2Fannounce&amp;tr=udp%3A%2F%2Ftracker.opentrackr.org%3A1337%2Fannounce&amp;tr=udp%3A%2F%2Fexodus.desync.com%3A6969\" rel=\"nofollow\" title=\"Westworld S02E01 720p WEB H264-DEFLATE [eztv] (1.93 GB) Magnet Link\"></a>,\n",
       " <a class=\"magnet\" href=\"magnet:?xt=urn:btih:21a84540af0ad847b1268ba2c4bed4356d377431&amp;dn=Westworld.S02E01.WEB.H264-DEFLATE%5Beztv%5D.mkv%5Beztv%5D&amp;tr=udp%3A%2F%2Ftracker.coppersurfer.tk%3A80&amp;tr=udp%3A%2F%2Fglotorrents.pw%3A6969%2Fannounce&amp;tr=udp%3A%2F%2Ftracker.opentrackr.org%3A1337%2Fannounce&amp;tr=udp%3A%2F%2Fexodus.desync.com%3A6969\" rel=\"nofollow\" title=\"Westworld S02E01 WEB H264-DEFLATE [eztv] (510.05 MB) Magnet Link\"></a>,\n",
       " <a class=\"magnet\" href=\"magnet:?xt=urn:btih:91ee74f6777cc3f12c0564fb206815caa831b96f&amp;dn=Westworld.S02E01.Journey.Into.Night.720p.AMZN.WEB-DL.DDP5.1.H.264-NTb%5Beztv%5D.mkv%5Beztv%5D&amp;tr=udp%3A%2F%2Ftracker.coppersurfer.tk%3A80&amp;tr=udp%3A%2F%2Fglotorrents.pw%3A6969%2Fannounce&amp;tr=udp%3A%2F%2Ftracker.opentrackr.org%3A1337%2Fannounce&amp;tr=udp%3A%2F%2Fexodus.desync.com%3A6969\" rel=\"nofollow\" title=\"Westworld S02E01 Journey Into Night 720p AMZN WEB-DL DDP5 1 H 264-NTb [eztv] (1.96 GB) Magnet Link\"></a>,\n",
       " <a class=\"magnet\" href=\"magnet:?xt=urn:btih:ad9f8ac6335252ea063f3b465063f61c08de1d24&amp;dn=Westworld.S01E10.iNTERNAL.HDTV.x264-TURBO%5Beztv%5D.mkv%5Beztv%5D&amp;tr=udp%3A%2F%2Ftracker.coppersurfer.tk%3A80&amp;tr=udp%3A%2F%2Fglotorrents.pw%3A6969%2Fannounce&amp;tr=udp%3A%2F%2Ftracker.opentrackr.org%3A1337%2Fannounce&amp;tr=udp%3A%2F%2Fexodus.desync.com%3A6969\" rel=\"nofollow\" title=\"Westworld S01E10 iNTERNAL HDTV x264-TURBO [eztv] (556.64 MB) Magnet Link\"></a>,\n",
       " <a class=\"magnet\" href=\"magnet:?xt=urn:btih:bc9e47eda58e486a62514e4950d5a6adf7485e5e&amp;dn=Westworld.S01E09.iNTERNAL.720p.HDTV.x264-TURBO%5Beztv%5D.mkv%5Beztv%5D&amp;tr=udp%3A%2F%2Ftracker.coppersurfer.tk%3A80&amp;tr=udp%3A%2F%2Fglotorrents.pw%3A6969%2Fannounce&amp;tr=udp%3A%2F%2Ftracker.opentrackr.org%3A1337%2Fannounce&amp;tr=udp%3A%2F%2Fexodus.desync.com%3A6969\" rel=\"nofollow\" title=\"Westworld S01E09 iNTERNAL 720p HDTV x264-TURBO [eztv] (1.36 GB) Magnet Link\"></a>,\n",
       " <a class=\"magnet\" href=\"magnet:?xt=urn:btih:1ad15eabe1e5b2edc40da51427651bc41353e203&amp;dn=Westworld.S01E09.HDTV.x264-KILLERS%5Beztv%5D.mkv%5Beztv%5D&amp;tr=udp%3A%2F%2Ftracker.coppersurfer.tk%3A80&amp;tr=udp%3A%2F%2Fglotorrents.pw%3A6969%2Fannounce&amp;tr=udp%3A%2F%2Ftracker.opentrackr.org%3A1337%2Fannounce&amp;tr=udp%3A%2F%2Fexodus.desync.com%3A6969\" rel=\"nofollow\" title=\"Westworld S01E09 HDTV x264-KILLERS [eztv] (314.42 MB) Magnet Link\"></a>,\n",
       " <a class=\"magnet\" href=\"magnet:?xt=urn:btih:d980f919580dd4081c7f49155942a680d0c96edd&amp;dn=Westworld.S01E09.720p.HDTV.x264-AVS%5Beztv%5D.mkv%5Beztv%5D&amp;tr=udp%3A%2F%2Ftracker.coppersurfer.tk%3A80&amp;tr=udp%3A%2F%2Fglotorrents.pw%3A6969%2Fannounce&amp;tr=udp%3A%2F%2Ftracker.opentrackr.org%3A1337%2Fannounce&amp;tr=udp%3A%2F%2Fexodus.desync.com%3A6969\" rel=\"nofollow\" title=\"Westworld S01E09 720p HDTV x264-AVS [eztv] (1.07 GB) Magnet Link\"></a>,\n",
       " <a class=\"magnet\" href=\"magnet:?xt=urn:btih:cc08075ee193297cb6bb5c82f343c3ab684f8900&amp;dn=Westworld.S01E08.iNTERNAL.HDTV.x264-TURBO%5Beztv%5D.mkv%5Beztv%5D&amp;tr=udp%3A%2F%2Ftracker.coppersurfer.tk%3A80&amp;tr=udp%3A%2F%2Fglotorrents.pw%3A6969%2Fannounce&amp;tr=udp%3A%2F%2Ftracker.opentrackr.org%3A1337%2Fannounce&amp;tr=udp%3A%2F%2Fexodus.desync.com%3A6969\" rel=\"nofollow\" title=\"Westworld S01E08 iNTERNAL HDTV x264-TURBO [eztv] (373.53 MB) Magnet Link\"></a>,\n",
       " <a class=\"magnet\" href=\"magnet:?xt=urn:btih:3ae6191ecd2f98ba4ac85ce3c9fd76789aafe1c8&amp;dn=Westworld.S01E08.HDTV.x264-KILLERS%5Beztv%5D.mkv%5Beztv%5D&amp;tr=udp%3A%2F%2Ftracker.coppersurfer.tk%3A80&amp;tr=udp%3A%2F%2Fglotorrents.pw%3A6969%2Fannounce&amp;tr=udp%3A%2F%2Ftracker.opentrackr.org%3A1337%2Fannounce&amp;tr=udp%3A%2F%2Fexodus.desync.com%3A6969\" rel=\"nofollow\" title=\"Westworld S01E08 HDTV x264-KILLERS [eztv] (341.85 MB) Magnet Link\"></a>,\n",
       " <a class=\"magnet\" href=\"magnet:?xt=urn:btih:6a51a82a5f33a8fdee02db9cea5a86aa3170dfa6&amp;dn=Westworld.S01E08.720p.HDTV.x264-AVS%5Beztv%5D.mkv%5Beztv%5D&amp;tr=udp%3A%2F%2Ftracker.coppersurfer.tk%3A80&amp;tr=udp%3A%2F%2Fglotorrents.pw%3A6969%2Fannounce&amp;tr=udp%3A%2F%2Ftracker.opentrackr.org%3A1337%2Fannounce&amp;tr=udp%3A%2F%2Fexodus.desync.com%3A6969\" rel=\"nofollow\" title=\"Westworld S01E08 720p HDTV x264-AVS [eztv] (1.14 GB) Magnet Link\"></a>,\n",
       " <a class=\"magnet\" href=\"magnet:?xt=urn:btih:42437f66c86ab6b840f44e7db77f1b783e14c418&amp;dn=Westworld.S01E07.HDTV.x264-KILLERS%5Beztv%5D.mkv%5Beztv%5D&amp;tr=udp%3A%2F%2Ftracker.coppersurfer.tk%3A80&amp;tr=udp%3A%2F%2Fglotorrents.pw%3A6969%2Fannounce&amp;tr=udp%3A%2F%2Ftracker.opentrackr.org%3A1337%2Fannounce&amp;tr=udp%3A%2F%2Fexodus.desync.com%3A6969\" rel=\"nofollow\" title=\"Westworld S01E07 HDTV x264-KILLERS [eztv] (290.11 MB) Magnet Link\"></a>,\n",
       " <a class=\"magnet\" href=\"magnet:?xt=urn:btih:18fff5c0c54aa6f08bf39c7e0fc756b96965c120&amp;dn=Westworld.S01E07.720p.HDTV.x264-AVS%5Beztv%5D.mkv%5Beztv%5D&amp;tr=udp%3A%2F%2Ftracker.coppersurfer.tk%3A80&amp;tr=udp%3A%2F%2Fglotorrents.pw%3A6969%2Fannounce&amp;tr=udp%3A%2F%2Ftracker.opentrackr.org%3A1337%2Fannounce&amp;tr=udp%3A%2F%2Fexodus.desync.com%3A6969\" rel=\"nofollow\" title=\"Westworld S01E07 720p HDTV x264-AVS [eztv] (1008.80 MB) Magnet Link\"></a>,\n",
       " <a class=\"magnet\" href=\"magnet:?xt=urn:btih:bf3012108f721df64bbbd1e4bbfd606f61d1215a&amp;dn=Westworld.S01E06.iNTERNAL.720p.HDTV.x264-TURBO%5Beztv%5D.mkv%5Beztv%5D&amp;tr=udp%3A%2F%2Ftracker.coppersurfer.tk%3A80&amp;tr=udp%3A%2F%2Fglotorrents.pw%3A6969%2Fannounce&amp;tr=udp%3A%2F%2Ftracker.opentrackr.org%3A1337%2Fannounce&amp;tr=udp%3A%2F%2Fexodus.desync.com%3A6969\" rel=\"nofollow\" title=\"Westworld S01E06 iNTERNAL 720p HDTV x264-TURBO [eztv] (1.37 GB) Magnet Link\"></a>,\n",
       " <a class=\"magnet\" href=\"magnet:?xt=urn:btih:82e674072145150ab85c184d66537bb61efe4547&amp;dn=Westworld.S01E06.PROPER.HDTV.x264-KILLERS%5Beztv%5D.mkv%5Beztv%5D&amp;tr=udp%3A%2F%2Ftracker.coppersurfer.tk%3A80&amp;tr=udp%3A%2F%2Fglotorrents.pw%3A6969%2Fannounce&amp;tr=udp%3A%2F%2Ftracker.opentrackr.org%3A1337%2Fannounce&amp;tr=udp%3A%2F%2Fexodus.desync.com%3A6969\" rel=\"nofollow\" title=\"Westworld S01E06 PROPER HDTV x264-KILLERS [eztv] (321.28 MB) Magnet Link\"></a>,\n",
       " <a class=\"magnet\" href=\"magnet:?xt=urn:btih:99f59d47a9a175982858c2054cec8b02fc2f0670&amp;dn=Westworld.S01E06.HDTV.x264-FLEET%5Beztv%5D.mkv%5Beztv%5D&amp;tr=udp%3A%2F%2Ftracker.coppersurfer.tk%3A80&amp;tr=udp%3A%2F%2Fglotorrents.pw%3A6969%2Fannounce&amp;tr=udp%3A%2F%2Ftracker.opentrackr.org%3A1337%2Fannounce&amp;tr=udp%3A%2F%2Fexodus.desync.com%3A6969\" rel=\"nofollow\" title=\"Westworld S01E06 HDTV x264-FLEET [eztv] (337.93 MB) Magnet Link\"></a>,\n",
       " <a class=\"magnet\" href=\"magnet:?xt=urn:btih:dbcfb58aea42ab503deda5f8e5d862c7f150f9a4&amp;dn=Westworld.S01E06.720p.HDTV.x264-AVS%5Beztv%5D.mkv%5Beztv%5D&amp;tr=udp%3A%2F%2Ftracker.coppersurfer.tk%3A80&amp;tr=udp%3A%2F%2Fglotorrents.pw%3A6969%2Fannounce&amp;tr=udp%3A%2F%2Ftracker.opentrackr.org%3A1337%2Fannounce&amp;tr=udp%3A%2F%2Fexodus.desync.com%3A6969\" rel=\"nofollow\" title=\"Westworld S01E06 720p HDTV x264-AVS [eztv] (1.11 GB) Magnet Link\"></a>,\n",
       " <a class=\"magnet\" href=\"magnet:?xt=urn:btih:effff9f57a04bcb77002fcd8085a89a53f11775d&amp;dn=Westworld.S01E06.720p.HDTV.x264-FLEET%5Beztv%5D.mkv%5Beztv%5D&amp;tr=udp%3A%2F%2Ftracker.coppersurfer.tk%3A80&amp;tr=udp%3A%2F%2Fglotorrents.pw%3A6969%2Fannounce&amp;tr=udp%3A%2F%2Ftracker.opentrackr.org%3A1337%2Fannounce&amp;tr=udp%3A%2F%2Fexodus.desync.com%3A6969\" rel=\"nofollow\" title=\"Westworld S01E06 720p HDTV x264-FLEET [eztv] (1016.52 MB) Magnet Link\"></a>,\n",
       " <a class=\"magnet\" href=\"magnet:?xt=urn:btih:e5815e8eb7ae492a6fd76c19a0817ea43ca7111a&amp;dn=Westworld.S01E05.HDTV.x264-KILLERS%5Beztv%5D.mkv%5Beztv%5D&amp;tr=udp%3A%2F%2Ftracker.coppersurfer.tk%3A80&amp;tr=udp%3A%2F%2Fglotorrents.pw%3A6969%2Fannounce&amp;tr=udp%3A%2F%2Ftracker.opentrackr.org%3A1337%2Fannounce&amp;tr=udp%3A%2F%2Fexodus.desync.com%3A6969\" rel=\"nofollow\" title=\"Westworld S01E05 HDTV x264-KILLERS [eztv] (362.34 MB) Magnet Link\"></a>,\n",
       " <a class=\"magnet\" href=\"magnet:?xt=urn:btih:17b195b23a19624d254011b93763ebf142344784&amp;dn=Westworld.S01E05.720p.HDTV.x264-AVS%5Beztv%5D.mkv%5Beztv%5D&amp;tr=udp%3A%2F%2Ftracker.coppersurfer.tk%3A80&amp;tr=udp%3A%2F%2Fglotorrents.pw%3A6969%2Fannounce&amp;tr=udp%3A%2F%2Ftracker.opentrackr.org%3A1337%2Fannounce&amp;tr=udp%3A%2F%2Fexodus.desync.com%3A6969\" rel=\"nofollow\" title=\"Westworld S01E05 720p HDTV x264-AVS [eztv] (1.18 GB) Magnet Link\"></a>,\n",
       " <a class=\"magnet\" href=\"magnet:?xt=urn:btih:6bf06c70aba05b4c4dd291f5318ffcb8f937474f&amp;dn=Westworld.S01E04.iNTERNAL.720p.HDTV.x264-TURBO%5Beztv%5D.mkv%5Beztv%5D&amp;tr=udp%3A%2F%2Ftracker.coppersurfer.tk%3A80&amp;tr=udp%3A%2F%2Fglotorrents.pw%3A6969%2Fannounce&amp;tr=udp%3A%2F%2Ftracker.opentrackr.org%3A1337%2Fannounce&amp;tr=udp%3A%2F%2Fexodus.desync.com%3A6969\" rel=\"nofollow\" title=\"Westworld S01E04 iNTERNAL 720p HDTV x264-TURBO [eztv] (1.46 GB) Magnet Link\"></a>,\n",
       " <a class=\"magnet\" href=\"magnet:?xt=urn:btih:b7aa171becd9cd1cea7fd9cbb4e823fcafd8d47c&amp;dn=Westworld.S01E04.iNTERNAL.HDTV.x264-TURBO%5Beztv%5D.mkv%5Beztv%5D&amp;tr=udp%3A%2F%2Ftracker.coppersurfer.tk%3A80&amp;tr=udp%3A%2F%2Fglotorrents.pw%3A6969%2Fannounce&amp;tr=udp%3A%2F%2Ftracker.opentrackr.org%3A1337%2Fannounce&amp;tr=udp%3A%2F%2Fexodus.desync.com%3A6969\" rel=\"nofollow\" title=\"Westworld S01E04 iNTERNAL HDTV x264-TURBO [eztv] (407.69 MB) Magnet Link\"></a>,\n",
       " <a class=\"magnet\" href=\"magnet:?xt=urn:btih:75c099cfad3b79882bdbde92d472086485a41f5c&amp;dn=Westworld.S01E04.HDTV.x264-FLEET%5Beztv%5D.mkv%5Beztv%5D&amp;tr=udp%3A%2F%2Ftracker.coppersurfer.tk%3A80&amp;tr=udp%3A%2F%2Fglotorrents.pw%3A6969%2Fannounce&amp;tr=udp%3A%2F%2Ftracker.opentrackr.org%3A1337%2Fannounce&amp;tr=udp%3A%2F%2Fexodus.desync.com%3A6969\" rel=\"nofollow\" title=\"Westworld S01E04 HDTV x264-FLEET [eztv] (406.19 MB) Magnet Link\"></a>,\n",
       " <a class=\"magnet\" href=\"magnet:?xt=urn:btih:73770387148a7629401e1f691438791df8e96a3d&amp;dn=Westworld.S01E04.720p.HDTV.x264-AVS%5Beztv%5D.mkv%5Beztv%5D&amp;tr=udp%3A%2F%2Ftracker.coppersurfer.tk%3A80&amp;tr=udp%3A%2F%2Fglotorrents.pw%3A6969%2Fannounce&amp;tr=udp%3A%2F%2Ftracker.opentrackr.org%3A1337%2Fannounce&amp;tr=udp%3A%2F%2Fexodus.desync.com%3A6969\" rel=\"nofollow\" title=\"Westworld S01E04 720p HDTV x264-AVS [eztv] (1.26 GB) Magnet Link\"></a>,\n",
       " <a class=\"magnet\" href=\"magnet:?xt=urn:btih:22e170cdfa946df1cbce7bad4f997d2c96295475&amp;dn=Westworld.S01E03.iNTERNAL.HDTV.x264-TURBO%5Beztv%5D.mkv%5Beztv%5D&amp;tr=udp%3A%2F%2Ftracker.coppersurfer.tk%3A80&amp;tr=udp%3A%2F%2Fglotorrents.pw%3A6969%2Fannounce&amp;tr=udp%3A%2F%2Ftracker.opentrackr.org%3A1337%2Fannounce&amp;tr=udp%3A%2F%2Fexodus.desync.com%3A6969\" rel=\"nofollow\" title=\"Westworld S01E03 iNTERNAL HDTV x264-TURBO [eztv] (394.67 MB) Magnet Link\"></a>,\n",
       " <a class=\"magnet\" href=\"magnet:?xt=urn:btih:ea7e3839e0dab761f772a1667fbb5e7d6ead9558&amp;dn=Westworld.S01E03.PROPER.HDTV.x264-KILLERS%5Beztv%5D.mkv%5Beztv%5D&amp;tr=udp%3A%2F%2Ftracker.coppersurfer.tk%3A80&amp;tr=udp%3A%2F%2Fglotorrents.pw%3A6969%2Fannounce&amp;tr=udp%3A%2F%2Ftracker.opentrackr.org%3A1337%2Fannounce&amp;tr=udp%3A%2F%2Fexodus.desync.com%3A6969\" rel=\"nofollow\" title=\"Westworld S01E03 PROPER HDTV x264-KILLERS [eztv] (367.44 MB) Magnet Link\"></a>,\n",
       " <a class=\"magnet\" href=\"magnet:?xt=urn:btih:cd5811e1d871089878063ce6fd076f40d3b0a4b2&amp;dn=Westworld.S01E03.PROPER.720p.HDTV.x264-KILLERS%5Beztv%5D.mkv%5Beztv%5D&amp;tr=udp%3A%2F%2Ftracker.coppersurfer.tk%3A80&amp;tr=udp%3A%2F%2Fglotorrents.pw%3A6969%2Fannounce&amp;tr=udp%3A%2F%2Ftracker.opentrackr.org%3A1337%2Fannounce&amp;tr=udp%3A%2F%2Fexodus.desync.com%3A6969\" rel=\"nofollow\" title=\"Westworld S01E03 PROPER 720p HDTV x264-KILLERS [eztv] (1.18 GB) Magnet Link\"></a>,\n",
       " <a class=\"magnet\" href=\"magnet:?xt=urn:btih:3e704902d681cea5da6518fe78a38a70694d2351&amp;dn=Westworld.S01E03.HDTV.x264-FLEET%5Beztv%5D.mkv%5Beztv%5D&amp;tr=udp%3A%2F%2Ftracker.coppersurfer.tk%3A80&amp;tr=udp%3A%2F%2Fglotorrents.pw%3A6969%2Fannounce&amp;tr=udp%3A%2F%2Ftracker.opentrackr.org%3A1337%2Fannounce&amp;tr=udp%3A%2F%2Fexodus.desync.com%3A6969\" rel=\"nofollow\" title=\"Westworld S01E03 HDTV x264-FLEET [eztv] (376.82 MB) Magnet Link\"></a>,\n",
       " <a class=\"magnet\" href=\"magnet:?xt=urn:btih:74bdbcdcf58d1f5318944208f43a10dbd47ebf00&amp;dn=Westworld.S01E03.720p.HDTV.x264-FLEET%5Beztv%5D.mkv%5Beztv%5D&amp;tr=udp%3A%2F%2Ftracker.coppersurfer.tk%3A80&amp;tr=udp%3A%2F%2Fglotorrents.pw%3A6969%2Fannounce&amp;tr=udp%3A%2F%2Ftracker.opentrackr.org%3A1337%2Fannounce&amp;tr=udp%3A%2F%2Fexodus.desync.com%3A6969\" rel=\"nofollow\" title=\"Westworld S01E03 720p HDTV x264-FLEET [eztv] (1.10 GB) Magnet Link\"></a>,\n",
       " <a class=\"magnet\" href=\"magnet:?xt=urn:btih:417752647c5994ed4b1acdec663d0e42a9be629c&amp;dn=Westworld.S01E02.iNTERNAL.HDTV.x264-TURBO%5Beztv%5D.mkv%5Beztv%5D&amp;tr=udp%3A%2F%2Ftracker.coppersurfer.tk%3A80&amp;tr=udp%3A%2F%2Fglotorrents.pw%3A6969%2Fannounce&amp;tr=udp%3A%2F%2Ftracker.opentrackr.org%3A1337%2Fannounce&amp;tr=udp%3A%2F%2Fexodus.desync.com%3A6969\" rel=\"nofollow\" title=\"Westworld S01E02 iNTERNAL HDTV x264-TURBO [eztv] (397.56 MB) Magnet Link\"></a>,\n",
       " <a class=\"magnet\" href=\"magnet:?xt=urn:btih:3dfe193580409acd8c085b0b9f276635576f6c3e&amp;dn=Westworld.S01E02.iNTERNAL.720p.HDTV.x264-TURBO%5Beztv%5D.mkv%5Beztv%5D&amp;tr=udp%3A%2F%2Ftracker.coppersurfer.tk%3A80&amp;tr=udp%3A%2F%2Fglotorrents.pw%3A6969%2Fannounce&amp;tr=udp%3A%2F%2Ftracker.opentrackr.org%3A1337%2Fannounce&amp;tr=udp%3A%2F%2Fexodus.desync.com%3A6969\" rel=\"nofollow\" title=\"Westworld S01E02 iNTERNAL 720p HDTV x264-TURBO [eztv] (1.55 GB) Magnet Link\"></a>,\n",
       " <a class=\"magnet\" href=\"magnet:?xt=urn:btih:81680c202693c8abbc43739974e6fc3ef475f4a1&amp;dn=Westworld.S01E01.PROPER.HDTV.x264-BATV%5Beztv%5D.mkv%5Beztv%5D&amp;tr=udp%3A%2F%2Ftracker.coppersurfer.tk%3A80&amp;tr=udp%3A%2F%2Fglotorrents.pw%3A6969%2Fannounce&amp;tr=udp%3A%2F%2Ftracker.opentrackr.org%3A1337%2Fannounce&amp;tr=udp%3A%2F%2Fexodus.desync.com%3A6969\" rel=\"nofollow\" title=\"Westworld S01E01 PROPER HDTV x264-BATV [eztv] (404.55 MB) Magnet Link\"></a>,\n",
       " <a class=\"magnet\" href=\"magnet:?xt=urn:btih:803cea456bd7e1575355901706f2aa2603967603&amp;dn=Westworld.S01E02.720p.HDTV.x264-BATV%5Beztv%5D.mkv%5Beztv%5D&amp;tr=udp%3A%2F%2Ftracker.coppersurfer.tk%3A80&amp;tr=udp%3A%2F%2Fglotorrents.pw%3A6969%2Fannounce&amp;tr=udp%3A%2F%2Ftracker.opentrackr.org%3A1337%2Fannounce&amp;tr=udp%3A%2F%2Fexodus.desync.com%3A6969\" rel=\"nofollow\" title=\"Westworld S01E02 720p HDTV x264-BATV [eztv] (1.61 GB) Magnet Link\"></a>,\n",
       " <a class=\"magnet\" href=\"magnet:?xt=urn:btih:32ba9f9ce18e02b73045f865c2ab8f3b1c5971ba&amp;dn=Westworld.S01E02.HDTV.x264-BATV%5Beztv%5D.mkv%5Beztv%5D&amp;tr=udp%3A%2F%2Ftracker.coppersurfer.tk%3A80&amp;tr=udp%3A%2F%2Fglotorrents.pw%3A6969%2Fannounce&amp;tr=udp%3A%2F%2Ftracker.opentrackr.org%3A1337%2Fannounce&amp;tr=udp%3A%2F%2Fexodus.desync.com%3A6969\" rel=\"nofollow\" title=\"Westworld S01E02 HDTV x264-BATV [eztv] (413.10 MB) Magnet Link\"></a>,\n",
       " <a class=\"magnet\" href=\"magnet:?xt=urn:btih:e8715edd89f67124935bb95e09b36116315ad493&amp;dn=Westworld.S01E01.PROPER.720p.HDTV.x264-BATV%5Beztv%5D.mkv%5Beztv%5D&amp;tr=udp%3A%2F%2Ftracker.coppersurfer.tk%3A80&amp;tr=udp%3A%2F%2Fglotorrents.pw%3A6969%2Fannounce&amp;tr=udp%3A%2F%2Ftracker.opentrackr.org%3A1337%2Fannounce&amp;tr=udp%3A%2F%2Fexodus.desync.com%3A6969\" rel=\"nofollow\" title=\"Westworld S01E01 PROPER 720p HDTV x264-BATV [eztv] (1.30 GB) Magnet Link\"></a>,\n",
       " <a class=\"magnet\" href=\"magnet:?xt=urn:btih:58391ee79de1b629132644395586086b2b9f3316&amp;dn=Westworld.S01E01.HDTV.x264-FUM%5Beztv%5D.mp4%5Beztv%5D&amp;tr=udp%3A%2F%2Ftracker.coppersurfer.tk%3A80&amp;tr=udp%3A%2F%2Fglotorrents.pw%3A6969%2Fannounce&amp;tr=udp%3A%2F%2Ftracker.opentrackr.org%3A1337%2Fannounce&amp;tr=udp%3A%2F%2Fexodus.desync.com%3A6969\" rel=\"nofollow\" title=\"Westworld S01E01 HDTV x264-FUM [eztv] (403.96 MB) Magnet Link\"></a>,\n",
       " <a class=\"magnet\" href=\"magnet:?xt=urn:btih:889808b55880eedd87e6024fd7ba239fe935260c&amp;dn=Westworld.S01E01.INTERNAL.720p.HDTV.x264-KILLERS%5Beztv%5D.mkv%5Beztv%5D&amp;tr=udp%3A%2F%2Ftracker.coppersurfer.tk%3A80&amp;tr=udp%3A%2F%2Fglotorrents.pw%3A6969%2Fannounce&amp;tr=udp%3A%2F%2Ftracker.opentrackr.org%3A1337%2Fannounce&amp;tr=udp%3A%2F%2Fexodus.desync.com%3A6969\" rel=\"nofollow\" title=\"Westworld S01E01 INTERNAL 720p HDTV x264-KILLERS [eztv] (1.36 GB) Magnet Link\"></a>,\n",
       " <a class=\"magnet\" href=\"magnet:?xt=urn:btih:08a58edc0b1c14abe95c9c6df2e0668a2558e777&amp;dn=Westworld.S01E01.HDTV.x264-FLEET%5Beztv%5D.mkv%5Beztv%5D&amp;tr=udp%3A%2F%2Ftracker.coppersurfer.tk%3A80&amp;tr=udp%3A%2F%2Fglotorrents.pw%3A6969%2Fannounce&amp;tr=udp%3A%2F%2Ftracker.opentrackr.org%3A1337%2Fannounce&amp;tr=udp%3A%2F%2Fexodus.desync.com%3A6969\" rel=\"nofollow\" title=\"Westworld S01E01 HDTV x264-FLEET [eztv] (429.53 MB) Magnet Link\"></a>,\n",
       " <a class=\"magnet\" href=\"magnet:?xt=urn:btih:6675642b5acc52a0b60fab6e94bde814f15f3351&amp;dn=Westworld.S01E01.720p.HDTV.x264-FLEET%5Beztv%5D.mkv%5Beztv%5D&amp;tr=udp%3A%2F%2Ftracker.coppersurfer.tk%3A80&amp;tr=udp%3A%2F%2Fglotorrents.pw%3A6969%2Fannounce&amp;tr=udp%3A%2F%2Ftracker.opentrackr.org%3A1337%2Fannounce&amp;tr=udp%3A%2F%2Fexodus.desync.com%3A6969\" rel=\"nofollow\" title=\"Westworld S01E01 720p HDTV x264-FLEET [eztv] (1.24 GB) Magnet Link\"></a>]"
      ]
     },
     "execution_count": 28,
     "metadata": {},
     "output_type": "execute_result"
    }
   ],
   "source": [
    "magnets"
   ]
  }
 ],
 "metadata": {
  "kernelspec": {
   "display_name": "Python 2",
   "language": "python",
   "name": "python2"
  },
  "language_info": {
   "codemirror_mode": {
    "name": "ipython",
    "version": 2
   },
   "file_extension": ".py",
   "mimetype": "text/x-python",
   "name": "python",
   "nbconvert_exporter": "python",
   "pygments_lexer": "ipython2",
   "version": "2.7.14"
  }
 },
 "nbformat": 4,
 "nbformat_minor": 2
}
